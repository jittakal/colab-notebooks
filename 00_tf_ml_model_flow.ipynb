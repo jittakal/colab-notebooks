{
 "cells": [
  {
   "cell_type": "markdown",
   "metadata": {},
   "source": [
    "#### 1. Import the libraries\n",
    "Import required machine learning libraries"
   ]
  },
  {
   "cell_type": "markdown",
   "metadata": {},
   "source": [
    "#### 2. Download/Import the datasets\n",
    "Import or download dataset from identified source"
   ]
  },
  {
   "cell_type": "markdown",
   "metadata": {},
   "source": [
    "#### 3. Explore the data\n",
    "Explore the format of dataset before training the model"
   ]
  },
  {
   "cell_type": "markdown",
   "metadata": {},
   "source": [
    "#### 4. Preprocess the data\n",
    "The data must be preprocessed before training the network."
   ]
  },
  {
   "cell_type": "markdown",
   "metadata": {},
   "source": [
    "#### 5. Build the model\n",
    "Building the neural network requires configuring the layers of the model, then compiling the model\n",
    "\n",
    "##### 5.1 Setup the layers\n",
    "The basic building block of a neural network is the layer. Layer extract representations from the data fed into the them.\n",
    "\n",
    "##### 5.2 Compile the model\n",
    "Before the model is ready for training, it needs a few more settings. These are added during the mdoels compile step:\n",
    "\n",
    "###### 5.2.1 Lost Function:\n",
    "This measures how accurate the model is during training. We want to minimize this function to \"steer\" the model in right direction.\n",
    "\n",
    "###### 5.2.2 Optimizer:\n",
    "This is how the model is updated based on the data it sees and its loss function.\n",
    "\n",
    "######  5.2.3 Metrics:\n",
    "Used to monitor the training and testing steps. The following example uses acuracy, the fraction of the images that are correctly classifed.\n"
   ]
  },
  {
   "cell_type": "markdown",
   "metadata": {},
   "source": [
    "#### 6. Train the model\n",
    "Training the neural network model requires to feed training data to model"
   ]
  },
  {
   "cell_type": "markdown",
   "metadata": {},
   "source": [
    "#### 7. Evaluate the model\n",
    "Compare how the model performs on the test dataset"
   ]
  },
  {
   "cell_type": "markdown",
   "metadata": {},
   "source": [
    "#### 8. Make predictions\n",
    "With the model trained, we can use it to make predictions as per usecase"
   ]
  },
  {
   "cell_type": "code",
   "execution_count": null,
   "metadata": {},
   "outputs": [],
   "source": []
  }
 ],
 "metadata": {
  "kernelspec": {
   "display_name": "Python 3",
   "language": "python",
   "name": "python3"
  },
  "language_info": {
   "codemirror_mode": {
    "name": "ipython",
    "version": 3
   },
   "file_extension": ".py",
   "mimetype": "text/x-python",
   "name": "python",
   "nbconvert_exporter": "python",
   "pygments_lexer": "ipython3",
   "version": "3.6.5"
  }
 },
 "nbformat": 4,
 "nbformat_minor": 2
}
